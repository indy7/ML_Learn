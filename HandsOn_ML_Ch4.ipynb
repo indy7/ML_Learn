{
 "metadata": {
  "language_info": {
   "codemirror_mode": {
    "name": "ipython",
    "version": 3
   },
   "file_extension": ".py",
   "mimetype": "text/x-python",
   "name": "python",
   "nbconvert_exporter": "python",
   "pygments_lexer": "ipython3",
   "version": "3.7.6-final"
  },
  "orig_nbformat": 2,
  "kernelspec": {
   "name": "python37664bittf2conda272c9299b7114e05bff35fe8f0b1caa4",
   "display_name": "Python 3.7.6 64-bit ('tf2': conda)",
   "language": "python"
  }
 },
 "nbformat": 4,
 "nbformat_minor": 2,
 "cells": [
  {
   "cell_type": "code",
   "execution_count": 1,
   "metadata": {},
   "outputs": [],
   "source": [
    "# ----- Initialize Libraries -----------------\n",
    "# Python ≥3.5 is required\n",
    "import sys\n",
    "assert sys.version_info >= (3, 5)\n",
    "\n",
    "# Scikit-Learn ≥0.20 is required\n",
    "import sklearn\n",
    "assert sklearn.__version__ >= \"0.20\"\n",
    "\n",
    "# Common imports\n",
    "import numpy as np\n",
    "import os\n",
    "\n",
    "# to make this notebook's output stable across runs\n",
    "np.random.seed(42)\n",
    "\n",
    "# To plot pretty figures\n",
    "%matplotlib inline\n",
    "import matplotlib as mpl\n",
    "import matplotlib.pyplot as plt"
   ]
  },
  {
   "cell_type": "code",
   "execution_count": 17,
   "metadata": {},
   "outputs": [],
   "source": [
    "with open('matplotlibconf.py') as fin:\n",
    "   exec(fin.read())"
   ]
  },
  {
   "cell_type": "code",
   "execution_count": 10,
   "metadata": {},
   "outputs": [],
   "source": [
    "# ----- Using Normal Equation to find value that minimizes cost function-----------------\n",
    "X = 2 * np.random.rand(100,1)\n",
    "y = 4 + 3 * X + np.random.rand(100,1)"
   ]
  },
  {
   "cell_type": "code",
   "execution_count": 11,
   "metadata": {},
   "outputs": [
    {
     "output_type": "execute_result",
     "data": {
      "text/plain": [
       "array([[1.28406329],\n",
       "       [0.16827993],\n",
       "       [0.32325743],\n",
       "       [1.79710838],\n",
       "       [1.21285812],\n",
       "       [0.0183941 ],\n",
       "       [0.20294309],\n",
       "       [1.32700354],\n",
       "       [0.01012317],\n",
       "       [0.3216161 ],\n",
       "       [1.09746758],\n",
       "       [1.3837904 ],\n",
       "       [1.30392252],\n",
       "       [0.44853862],\n",
       "       [1.42435844],\n",
       "       [0.47449817],\n",
       "       [0.6507994 ],\n",
       "       [1.49298281],\n",
       "       [1.2992658 ],\n",
       "       [1.69844682],\n",
       "       [1.31522578],\n",
       "       [1.13661721],\n",
       "       [0.18734954],\n",
       "       [0.73543161],\n",
       "       [0.53040474],\n",
       "       [0.48797929],\n",
       "       [1.94602111],\n",
       "       [0.78619545],\n",
       "       [1.78409311],\n",
       "       [1.26227725],\n",
       "       [1.58962261],\n",
       "       [1.00527419],\n",
       "       [1.15380777],\n",
       "       [0.98503539],\n",
       "       [0.39048598],\n",
       "       [1.44490423],\n",
       "       [0.56154472],\n",
       "       [0.04863193],\n",
       "       [1.29094459],\n",
       "       [0.35422136],\n",
       "       [1.88091717],\n",
       "       [1.90785715],\n",
       "       [1.82972878],\n",
       "       [0.7403174 ],\n",
       "       [0.03091323],\n",
       "       [1.85663713],\n",
       "       [0.8563683 ],\n",
       "       [1.93330964],\n",
       "       [1.92723995],\n",
       "       [1.70601891],\n",
       "       [0.58889778],\n",
       "       [0.77019546],\n",
       "       [1.70227334],\n",
       "       [0.63384401],\n",
       "       [0.33898549],\n",
       "       [1.11360252],\n",
       "       [1.87230955],\n",
       "       [1.39205959],\n",
       "       [1.14012234],\n",
       "       [0.19435299],\n",
       "       [1.23001445],\n",
       "       [1.9801077 ],\n",
       "       [0.28016803],\n",
       "       [1.0366593 ],\n",
       "       [1.75474614],\n",
       "       [1.48153724],\n",
       "       [1.39403148],\n",
       "       [1.40496817],\n",
       "       [0.7189823 ],\n",
       "       [0.58718369],\n",
       "       [1.61872231],\n",
       "       [1.62022679],\n",
       "       [1.73414464],\n",
       "       [1.82648111],\n",
       "       [1.0226848 ],\n",
       "       [1.00303259],\n",
       "       [1.59659036],\n",
       "       [1.29992786],\n",
       "       [1.40393375],\n",
       "       [1.59158534],\n",
       "       [1.78001068],\n",
       "       [0.67599031],\n",
       "       [0.75116591],\n",
       "       [0.18796388],\n",
       "       [1.15656028],\n",
       "       [0.07188455],\n",
       "       [0.93119604],\n",
       "       [1.08528927],\n",
       "       [0.5730825 ],\n",
       "       [1.18166652],\n",
       "       [0.0610005 ],\n",
       "       [0.07469638],\n",
       "       [1.64520112],\n",
       "       [0.72038128],\n",
       "       [0.25412103],\n",
       "       [1.04448652],\n",
       "       [1.53998711],\n",
       "       [0.43164205],\n",
       "       [1.24578095],\n",
       "       [0.17069493]])"
      ]
     },
     "metadata": {},
     "execution_count": 11
    }
   ],
   "source": [
    "X"
   ]
  },
  {
   "cell_type": "code",
   "execution_count": 12,
   "metadata": {},
   "outputs": [
    {
     "output_type": "execute_result",
     "data": {
      "text/plain": [
       "array([[1.        , 1.28406329],\n",
       "       [1.        , 0.16827993],\n",
       "       [1.        , 0.32325743],\n",
       "       [1.        , 1.79710838],\n",
       "       [1.        , 1.21285812],\n",
       "       [1.        , 0.0183941 ],\n",
       "       [1.        , 0.20294309],\n",
       "       [1.        , 1.32700354],\n",
       "       [1.        , 0.01012317],\n",
       "       [1.        , 0.3216161 ],\n",
       "       [1.        , 1.09746758],\n",
       "       [1.        , 1.3837904 ],\n",
       "       [1.        , 1.30392252],\n",
       "       [1.        , 0.44853862],\n",
       "       [1.        , 1.42435844],\n",
       "       [1.        , 0.47449817],\n",
       "       [1.        , 0.6507994 ],\n",
       "       [1.        , 1.49298281],\n",
       "       [1.        , 1.2992658 ],\n",
       "       [1.        , 1.69844682],\n",
       "       [1.        , 1.31522578],\n",
       "       [1.        , 1.13661721],\n",
       "       [1.        , 0.18734954],\n",
       "       [1.        , 0.73543161],\n",
       "       [1.        , 0.53040474],\n",
       "       [1.        , 0.48797929],\n",
       "       [1.        , 1.94602111],\n",
       "       [1.        , 0.78619545],\n",
       "       [1.        , 1.78409311],\n",
       "       [1.        , 1.26227725],\n",
       "       [1.        , 1.58962261],\n",
       "       [1.        , 1.00527419],\n",
       "       [1.        , 1.15380777],\n",
       "       [1.        , 0.98503539],\n",
       "       [1.        , 0.39048598],\n",
       "       [1.        , 1.44490423],\n",
       "       [1.        , 0.56154472],\n",
       "       [1.        , 0.04863193],\n",
       "       [1.        , 1.29094459],\n",
       "       [1.        , 0.35422136],\n",
       "       [1.        , 1.88091717],\n",
       "       [1.        , 1.90785715],\n",
       "       [1.        , 1.82972878],\n",
       "       [1.        , 0.7403174 ],\n",
       "       [1.        , 0.03091323],\n",
       "       [1.        , 1.85663713],\n",
       "       [1.        , 0.8563683 ],\n",
       "       [1.        , 1.93330964],\n",
       "       [1.        , 1.92723995],\n",
       "       [1.        , 1.70601891],\n",
       "       [1.        , 0.58889778],\n",
       "       [1.        , 0.77019546],\n",
       "       [1.        , 1.70227334],\n",
       "       [1.        , 0.63384401],\n",
       "       [1.        , 0.33898549],\n",
       "       [1.        , 1.11360252],\n",
       "       [1.        , 1.87230955],\n",
       "       [1.        , 1.39205959],\n",
       "       [1.        , 1.14012234],\n",
       "       [1.        , 0.19435299],\n",
       "       [1.        , 1.23001445],\n",
       "       [1.        , 1.9801077 ],\n",
       "       [1.        , 0.28016803],\n",
       "       [1.        , 1.0366593 ],\n",
       "       [1.        , 1.75474614],\n",
       "       [1.        , 1.48153724],\n",
       "       [1.        , 1.39403148],\n",
       "       [1.        , 1.40496817],\n",
       "       [1.        , 0.7189823 ],\n",
       "       [1.        , 0.58718369],\n",
       "       [1.        , 1.61872231],\n",
       "       [1.        , 1.62022679],\n",
       "       [1.        , 1.73414464],\n",
       "       [1.        , 1.82648111],\n",
       "       [1.        , 1.0226848 ],\n",
       "       [1.        , 1.00303259],\n",
       "       [1.        , 1.59659036],\n",
       "       [1.        , 1.29992786],\n",
       "       [1.        , 1.40393375],\n",
       "       [1.        , 1.59158534],\n",
       "       [1.        , 1.78001068],\n",
       "       [1.        , 0.67599031],\n",
       "       [1.        , 0.75116591],\n",
       "       [1.        , 0.18796388],\n",
       "       [1.        , 1.15656028],\n",
       "       [1.        , 0.07188455],\n",
       "       [1.        , 0.93119604],\n",
       "       [1.        , 1.08528927],\n",
       "       [1.        , 0.5730825 ],\n",
       "       [1.        , 1.18166652],\n",
       "       [1.        , 0.0610005 ],\n",
       "       [1.        , 0.07469638],\n",
       "       [1.        , 1.64520112],\n",
       "       [1.        , 0.72038128],\n",
       "       [1.        , 0.25412103],\n",
       "       [1.        , 1.04448652],\n",
       "       [1.        , 1.53998711],\n",
       "       [1.        , 0.43164205],\n",
       "       [1.        , 1.24578095],\n",
       "       [1.        , 0.17069493]])"
      ]
     },
     "metadata": {},
     "execution_count": 12
    }
   ],
   "source": [
    "X_b = np.c_[np.ones((100,1)), X]\n",
    "X_b"
   ]
  },
  {
   "cell_type": "code",
   "execution_count": 13,
   "metadata": {},
   "outputs": [],
   "source": [
    "theta_best = np.linalg.inv(X_b.T.dot(X_b)).dot(X_b.T).dot(y)"
   ]
  },
  {
   "cell_type": "code",
   "execution_count": 14,
   "metadata": {},
   "outputs": [
    {
     "output_type": "execute_result",
     "data": {
      "text/plain": [
       "array([[4.60234805],\n",
       "       [2.89258228]])"
      ]
     },
     "metadata": {},
     "execution_count": 14
    }
   ],
   "source": [
    "theta_best"
   ]
  },
  {
   "cell_type": "code",
   "execution_count": 15,
   "metadata": {},
   "outputs": [
    {
     "output_type": "execute_result",
     "data": {
      "text/plain": [
       "array([[ 4.60234805],\n",
       "       [10.38751261]])"
      ]
     },
     "metadata": {},
     "execution_count": 15
    }
   ],
   "source": [
    "X_new = np.array([[0],[2]])\n",
    "X_new_b = np.c_[np.ones((2,1)), X_new]\n",
    "y_predict = X_new_b.dot(theta_best)\n",
    "y_predict"
   ]
  },
  {
   "cell_type": "code",
   "execution_count": 24,
   "metadata": {},
   "outputs": [
    {
     "output_type": "execute_result",
     "data": {
      "text/plain": [
       "array([[0],\n",
       "       [2]])"
      ]
     },
     "metadata": {},
     "execution_count": 24
    }
   ],
   "source": [
    "X_new"
   ]
  },
  {
   "cell_type": "code",
   "execution_count": 25,
   "metadata": {},
   "outputs": [
    {
     "output_type": "display_data",
     "data": {
      "text/plain": "<Figure size 756x648 with 1 Axes>",
      "image/png": "[encoded data removed]",
      "application/pdf": "[encoded data removed]"
     },
     "metadata": {
      "needs_background": "light"
     }
    }
   ],
   "source": [
    "plt.plot(X_new, y_predict, \"r-\")\n",
    "plt.plot(X,y,\"b.\")\n",
    "plt.axis([0,2,0,15])\n",
    "plt.show()"
   ]
  },
  {
   "cell_type": "code",
   "execution_count": 27,
   "metadata": {},
   "outputs": [
    {
     "output_type": "execute_result",
     "data": {
      "text/plain": [
       "(array([4.60234805]), array([[2.89258228]]))"
      ]
     },
     "metadata": {},
     "execution_count": 27
    }
   ],
   "source": [
    "# ----- Using Scikit-Learn to find value that minimizes cost function -----------------\n",
    "# ----- Sciket-Learn utilizes pseudoinverse of Matrix and SVD (Singular Value Decomposition) to calculate \n",
    "#       the value that minimizes the cost function\n",
    "from sklearn.linear_model import LinearRegression\n",
    "lin_reg = LinearRegression()\n",
    "lin_reg.fit(X,y)\n",
    "lin_reg.intercept_, lin_reg.coef_\n"
   ]
  },
  {
   "cell_type": "code",
   "execution_count": 30,
   "metadata": {},
   "outputs": [
    {
     "output_type": "execute_result",
     "data": {
      "text/plain": [
       "array([[ 4.60234805],\n",
       "       [10.38751261]])"
      ]
     },
     "metadata": {},
     "execution_count": 30
    }
   ],
   "source": [
    "y_predict_linreg = lin_reg.predict(X_new)\n",
    "y_predict_linreg"
   ]
  },
  {
   "cell_type": "code",
   "execution_count": 31,
   "metadata": {},
   "outputs": [
    {
     "output_type": "display_data",
     "data": {
      "text/plain": "<Figure size 756x648 with 1 Axes>",
      "image/png": "[encoded data removed]",
      "application/pdf": "[encoded data removed]"
     },
     "metadata": {
      "needs_background": "light"
     }
    }
   ],
   "source": [
    "plt.plot(X_new, y_predict, \"r-\")\n",
    "plt.plot(X,y,\"b.\")\n",
    "plt.axis([0,2,0,15])\n",
    "plt.show()"
   ]
  },
  {
   "cell_type": "code",
   "execution_count": null,
   "metadata": {},
   "outputs": [],
   "source": []
  }
 ]
}